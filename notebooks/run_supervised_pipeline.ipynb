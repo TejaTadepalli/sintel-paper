{
 "cells": [
  {
   "cell_type": "code",
   "execution_count": 1,
   "id": "de8f8adc",
   "metadata": {},
   "outputs": [],
   "source": [
    "import matplotlib.pyplot as plt\n",
    "from mlblocks import MLPipeline\n",
    "from mlblocks import get_primitives_paths, get_pipelines_paths\n",
    "\n",
    "from orion.data import load_signal, load_anomalies"
   ]
  },
  {
   "cell_type": "code",
   "execution_count": 2,
   "id": "dd130494",
   "metadata": {},
   "outputs": [],
   "source": [
    "# display(get_primitives_paths())\n",
    "# display(get_pipelines_paths())"
   ]
  },
  {
   "cell_type": "code",
   "execution_count": 3,
   "id": "c721e0d7",
   "metadata": {},
   "outputs": [],
   "source": [
    "signal = 'S-1'\n",
    "\n",
    "timeseries = load_signal(signal)\n",
    "anomalies = load_anomalies(signal)\n",
    "\n",
    "timeseries['label'] = [0] * len(timeseries)\n",
    "timeseries = timeseries.set_index('timestamp').sort_index()\n",
    "for i, anomaly in anomalies.iterrows():\n",
    "    timeseries.at[anomaly.start: anomaly.end, 'label'] = 1\n",
    "    \n",
    "timeseries = timeseries.reset_index()"
   ]
  },
  {
   "cell_type": "code",
   "execution_count": 4,
   "id": "37fe29d7",
   "metadata": {},
   "outputs": [
    {
     "name": "stderr",
     "output_type": "stream",
     "text": [
      "Using TensorFlow backend.\n"
     ]
    },
    {
     "name": "stdout",
     "output_type": "stream",
     "text": [
      "WARNING:tensorflow:From /Users/sarah/opt/anaconda3/envs/sintel/lib/python3.7/site-packages/tensorflow_core/python/ops/resource_variable_ops.py:1630: calling BaseResourceVariable.__init__ (from tensorflow.python.ops.resource_variable_ops) with constraint is deprecated and will be removed in a future version.\n",
      "Instructions for updating:\n",
      "If using Keras pass *_constraint arguments to layers.\n",
      "WARNING:tensorflow:From /Users/sarah/opt/anaconda3/envs/sintel/lib/python3.7/site-packages/keras/backend/tensorflow_backend.py:422: The name tf.global_variables is deprecated. Please use tf.compat.v1.global_variables instead.\n",
      "\n"
     ]
    },
    {
     "name": "stderr",
     "output_type": "stream",
     "text": [
      "/Users/sarah/opt/anaconda3/envs/sintel/lib/python3.7/site-packages/keras/callbacks/callbacks.py:846: RuntimeWarning: Early stopping conditioned on metric `val_loss` which is not available. Available metrics are: loss,accuracy\n",
      "  (self.monitor, ','.join(list(logs.keys()))), RuntimeWarning\n"
     ]
    }
   ],
   "source": [
    "pipeline = MLPipeline(\"lstm_supervised\")\n",
    "\n",
    "pipeline.fit(timeseries)\n",
    "\n",
    "anomalies = pipeline.predict(timeseries)"
   ]
  },
  {
   "cell_type": "code",
   "execution_count": 5,
   "id": "45a3b7c7",
   "metadata": {},
   "outputs": [
    {
     "data": {
      "text/plain": [
       "array([[1399701600, 1402509600],\n",
       "       [1402552800, 1402725600],\n",
       "       [1402768800, 1402768800],\n",
       "       [1402898400, 1402984800]])"
      ]
     },
     "execution_count": 5,
     "metadata": {},
     "output_type": "execute_result"
    }
   ],
   "source": [
    "anomalies"
   ]
  }
 ],
 "metadata": {
  "kernelspec": {
   "display_name": "Python 3",
   "language": "python",
   "name": "python3"
  },
  "language_info": {
   "codemirror_mode": {
    "name": "ipython",
    "version": 3
   },
   "file_extension": ".py",
   "mimetype": "text/x-python",
   "name": "python",
   "nbconvert_exporter": "python",
   "pygments_lexer": "ipython3",
   "version": "3.7.10"
  }
 },
 "nbformat": 4,
 "nbformat_minor": 5
}
